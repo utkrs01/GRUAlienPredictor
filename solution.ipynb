{
  "cells": [
    {
      "cell_type": "code",
      "execution_count": null,
      "metadata": {
        "colab": {
          "base_uri": "https://localhost:8080/"
        },
        "id": "3W_MSvpTG-_1",
        "outputId": "bb73ebe2-c020-4e75-897c-a049e04ab5d2"
      },
      "outputs": [
        {
          "name": "stdout",
          "output_type": "stream",
          "text": [
            "                                    message  fingers tail  species\n",
            "0                        pluvia arbor aquos        4   no   Aquari\n",
            "1                 cosmix xeno nebuz odbitaz        5  yes  Zorblax\n",
            "2        solarix glixx novum galaxum quasar        5  yes  Zorblax\n",
            "3  arbor insectus pesros ekos dootix nimbus        2  yes  Florian\n",
            "4         mermax drakos lorix epikoz deftax        4   no   Faerix\n"
          ]
        }
      ],
      "source": [
        "import pandas as pd\n",
        "data = pd.read_csv('data.csv')\n",
        "# Printing the first 5 rows of the data to verify import\n",
        "print(data.head())"
      ]
    },
    {
      "cell_type": "code",
      "execution_count": null,
      "metadata": {
        "colab": {
          "base_uri": "https://localhost:8080/"
        },
        "id": "l-wkAjpfOrQq",
        "outputId": "e1a1b85f-1869-48fa-c44f-8dc1cecf08e5"
      },
      "outputs": [
        {
          "name": "stdout",
          "output_type": "stream",
          "text": [
            "                                    message  fingers tail  species  \\\n",
            "0                        pluvia arbor aquos        4   no   Aquari   \n",
            "1                 cosmix xeno nebuz odbitaz        5  yes  Zorblax   \n",
            "2        solarix glixx novum galaxum quasar        5  yes  Zorblax   \n",
            "3  arbor insectus pesros ekos dootix nimbus        2  yes  Florian   \n",
            "4         mermax drakos lorix epikoz deftax        4   no   Faerix   \n",
            "\n",
            "   num_characters  num_words  \n",
            "0              18          3  \n",
            "1              25          4  \n",
            "2              34          5  \n",
            "3              40          6  \n",
            "4              33          5  \n"
          ]
        }
      ],
      "source": [
        "# Adding new columns 'num_characters', 'num_words' with the number of characters in the 'message' column\n",
        "data['num_characters'] = data['message'].str.len()\n",
        "data['num_words'] = data['message'].str.split().str.len()\n",
        "\n",
        "print(data.head())\n"
      ]
    },
    {
      "cell_type": "code",
      "execution_count": null,
      "metadata": {
        "colab": {
          "base_uri": "https://localhost:8080/"
        },
        "id": "g_enR_89P-EW",
        "outputId": "8124d60f-729f-4c22-ad0f-1fa5097fb701"
      },
      "outputs": [
        {
          "name": "stdout",
          "output_type": "stream",
          "text": [
            "                                    message  fingers  tail  species  \\\n",
            "0                        pluvia arbor aquos        4     0   Aquari   \n",
            "1                 cosmix xeno nebuz odbitaz        5     1  Zorblax   \n",
            "2        solarix glixx novum galaxum quasar        5     1  Zorblax   \n",
            "3  arbor insectus pesros ekos dootix nimbus        2     1  Florian   \n",
            "4         mermax drakos lorix epikoz deftax        4     0   Faerix   \n",
            "\n",
            "   num_characters  num_words  \n",
            "0              18          3  \n",
            "1              25          4  \n",
            "2              34          5  \n",
            "3              40          6  \n",
            "4              33          5  \n"
          ]
        }
      ],
      "source": [
        "# Convert 'tail' column to 1 if 'yes', otherwise 0\n",
        "data['tail'] = data['tail'].apply(lambda x: 1 if x == 'yes' else 0)\n",
        "print(data.head())\n"
      ]
    },
    {
      "cell_type": "code",
      "execution_count": null,
      "metadata": {
        "colab": {
          "base_uri": "https://localhost:8080/"
        },
        "id": "Q_t2Ygo9QjFR",
        "outputId": "49ab983e-eba2-4693-c74b-8deb68898c37"
      },
      "outputs": [
        {
          "name": "stdout",
          "output_type": "stream",
          "text": [
            "species\n",
            "Aquari      5.395833\n",
            "Cybex       5.400000\n",
            "Emotivor    5.462963\n",
            "Faerix      5.558140\n",
            "Florian     5.115385\n",
            "Mythron     5.540000\n",
            "Nexoon      5.162791\n",
            "Quixnar     5.400000\n",
            "Sentire     5.727273\n",
            "Zorblax     5.647059\n",
            "Name: num_words, dtype: float64\n"
          ]
        }
      ],
      "source": [
        "# Group by 'species' and calculate the mean of 'num_words' for each group\n",
        "average_words_by_species = data.groupby('species')['num_words'].mean()\n",
        "print(average_words_by_species)\n",
        "# Group by 'species' and calculate the mean of 'num_fingers' for each group\n",
        "average_fingers_by_species = data.groupby('species')['fingers'].mean()\n",
        "print(average_fingers_by_species)"
      ]
    },
    {
      "cell_type": "code",
      "execution_count": null,
      "metadata": {
        "colab": {
          "base_uri": "https://localhost:8080/"
        },
        "id": "fQYuEhsqTCEG",
        "outputId": "165060d0-625e-463b-bb27-51adea1557a9"
      },
      "outputs": [
        {
          "name": "stdout",
          "output_type": "stream",
          "text": [
            "                                    message  fingers  tail  species  \\\n",
            "0                        pluvia arbor aquos        4     0   Aquari   \n",
            "1                 cosmix xeno nebuz odbitaz        5     1  Zorblax   \n",
            "2        solarix glixx novum galaxum quasar        5     1  Zorblax   \n",
            "3  arbor insectus pesros ekos dootix nimbus        2     1  Florian   \n",
            "4         mermax drakos lorix epikoz deftax        4     0   Faerix   \n",
            "\n",
            "   num_characters  num_words      rabin_karp_hash  \n",
            "0              18          3 -5949042726681104978  \n",
            "1              25          4 -7310603736316695379  \n",
            "2              34          5  2715490893770488166  \n",
            "3              40          6 -7580060495572011363  \n",
            "4              33          5 -4288299550352614427  \n"
          ]
        }
      ],
      "source": [
        "def rabin_karp(text, pattern):\n",
        "  \"\"\"\n",
        "  Rabin-Karp rolling hash implementation.\n",
        "\n",
        "  Args:\n",
        "    text: The text to search within.\n",
        "    pattern: The pattern to search for.\n",
        "\n",
        "  Returns:\n",
        "    A list of indices where the pattern is found in the text.\n",
        "  \"\"\"\n",
        "  n = len(text)\n",
        "  m = len(pattern)\n",
        "  if m > n:\n",
        "    return []\n",
        "\n",
        "  # Precompute hash values for pattern and initial window of text\n",
        "  pattern_hash = hash(pattern)\n",
        "  window_hash = hash(text[:m])\n",
        "\n",
        "  indices = []\n",
        "  for i in range(n - m + 1):\n",
        "    if pattern_hash == window_hash:\n",
        "      if text[i:i + m] == pattern:\n",
        "        indices.append(i)\n",
        "\n",
        "    if i < n - m:\n",
        "      # Rolling hash calculation\n",
        "      window_hash = hash(text[i + 1:i + m + 1])\n",
        "\n",
        "  return indices\n",
        "\n",
        "# Calculate the Rabin-Karp hash of each message\n",
        "data['rabin_karp_hash'] = data['message'].apply(lambda x: hash(x) if isinstance(x, str) else None)\n",
        "print(data.head())\n"
      ]
    },
    {
      "cell_type": "code",
      "execution_count": null,
      "metadata": {
        "colab": {
          "base_uri": "https://localhost:8080/",
          "height": 452
        },
        "id": "T0o9RQqFQ87V",
        "outputId": "e58f00a5-422d-43bf-dcfe-80bb45ebc431"
      },
      "outputs": [
        {
          "data": {
            "image/png": "[encoded data removed]",
            "text/plain": [
              "<Figure size 640x480 with 1 Axes>"
            ]
          },
          "metadata": {},
          "output_type": "display_data"
        }
      ],
      "source": [
        "# box plot for number of fingers\n",
        "import matplotlib.pyplot as plt\n",
        "\n",
        "plt.boxplot(data['fingers'])\n",
        "plt.title('Box Plot of Number of Fingers')\n",
        "plt.ylabel('Number of Fingers')\n",
        "plt.show()\n"
      ]
    },
    {
      "cell_type": "code",
      "execution_count": null,
      "metadata": {
        "colab": {
          "base_uri": "https://localhost:8080/"
        },
        "id": "UBRtdqxsXu7r",
        "outputId": "ac9f5a14-6997-4869-a78e-617f0676d484"
      },
      "outputs": [
        {
          "name": "stdout",
          "output_type": "stream",
          "text": [
            "                                    message  fingers  tail  species  \\\n",
            "0                        pluvia arbor aquos        4     0   Aquari   \n",
            "1                 cosmix xeno nebuz odbitaz        5     1  Zorblax   \n",
            "2        solarix glixx novum galaxum quasar        5     1  Zorblax   \n",
            "3  arbor insectus pesros ekos dootix nimbus        2     1  Florian   \n",
            "4         mermax drakos lorix epikoz deftax        4     0   Faerix   \n",
            "\n",
            "   num_characters  num_words      rabin_karp_hash  ascii_sum  \n",
            "0              18          3 -5949042726681104978       1808  \n",
            "1              25          4 -7310603736316695379       2494  \n",
            "2              34          5  2715490893770488166       3423  \n",
            "3              40          6 -7580060495572011363       3991  \n",
            "4              33          5 -4288299550352614427       3274  \n"
          ]
        }
      ],
      "source": [
        "def sum_ascii_values(text):\n",
        "  \"\"\"Calculates the sum of ASCII values for characters in a string.\"\"\"\n",
        "  total_ascii = 0\n",
        "  for char in text:\n",
        "    total_ascii += ord(char)\n",
        "  return total_ascii\n",
        "\n",
        "# Adding a new 'ascii_sum' column to the data indicating the sum of ASCII values for characters in 'message'\n",
        "data['ascii_sum'] = data['message'].apply(sum_ascii_values)\n",
        "print(data.head())\n",
        "\n",
        "# Group by 'species' and calculate the mean of 'ascii_sum' for each group\n",
        "average_ascii_sum_by_species = data.groupby('species')['ascii_sum'].mean()\n",
        "print(average_ascii_sum_by_species)"
      ]
    },
    {
      "cell_type": "code",
      "execution_count": null,
      "metadata": {
        "colab": {
          "base_uri": "https://localhost:8080/"
        },
        "id": "pcFRaYwNUtjX",
        "outputId": "dccd5f84-e3d1-48d0-8cd5-b26434a92492"
      },
      "outputs": [
        {
          "name": "stdout",
          "output_type": "stream",
          "text": [
            "                                             message  fingers  tail  species  \\\n",
            "21           xeno stardux novtm xeno kometa celestar        4     0  Quixnar   \n",
            "26  celestar orbitaz lunox nebuz blaloz ufox solarix        4     0  Quixnar   \n",
            "27              nebulax galaxum quasar celestar ufox        4     0  Quixnar   \n",
            "50              meteorn quasar solarix novax solarih        4     0  Quixnar   \n",
            "58              novara celestar solarix zorp solarix        3     0  Quixnar   \n",
            "\n",
            "    num_characters  num_words      rabin_karp_hash  ascii_sum  \n",
            "21              39          6  1049577348800642558       3879  \n",
            "26              48          7  5639177661791525428       4784  \n",
            "27              36          5  6428859542769785580       3584  \n",
            "50              36          5  6377944980097390364       3623  \n",
            "58              36          5  5020151277815627424       3625  \n"
          ]
        }
      ],
      "source": [
        "# Store Quixnar data in new variable\n",
        "quixnar_data = data[data['species'] == 'Quixnar']\n",
        "print(quixnar_data.head())"
      ]
    },
    {
      "cell_type": "code",
      "execution_count": null,
      "metadata": {
        "colab": {
          "base_uri": "https://localhost:8080/",
          "height": 1000
        },
        "id": "BRFYKlt_Wcqd",
        "outputId": "0fb9d8ea-d3ee-4a17-dd10-882b68806806"
      },
      "outputs": [
        {
          "data": {
            "image/png": "[encoded data removed]",
            "text/plain": [
              "<Figure size 640x480 with 1 Axes>"
            ]
          },
          "metadata": {},
          "output_type": "display_data"
        },
        {
          "data": {
            "image/png": "[encoded data removed]",
            "text/plain": [
              "<Figure size 640x480 with 1 Axes>"
            ]
          },
          "metadata": {},
          "output_type": "display_data"
        },
        {
          "ename": "KeyError",
          "evalue": "'rolling_hash'",
          "output_type": "error",
          "traceback": [
            "\u001b[0;31m---------------------------------------------------------------------------\u001b[0m",
            "\u001b[0;31mKeyError\u001b[0m                                  Traceback (most recent call last)",
            "\u001b[0;32m/usr/local/lib/python3.10/dist-packages/pandas/core/indexes/base.py\u001b[0m in \u001b[0;36mget_loc\u001b[0;34m(self, key)\u001b[0m\n\u001b[1;32m   3790\u001b[0m         \u001b[0;32mtry\u001b[0m\u001b[0;34m:\u001b[0m\u001b[0;34m\u001b[0m\u001b[0;34m\u001b[0m\u001b[0m\n\u001b[0;32m-> 3791\u001b[0;31m             \u001b[0;32mreturn\u001b[0m \u001b[0mself\u001b[0m\u001b[0;34m.\u001b[0m\u001b[0m_engine\u001b[0m\u001b[0;34m.\u001b[0m\u001b[0mget_loc\u001b[0m\u001b[0;34m(\u001b[0m\u001b[0mcasted_key\u001b[0m\u001b[0;34m)\u001b[0m\u001b[0;34m\u001b[0m\u001b[0;34m\u001b[0m\u001b[0m\n\u001b[0m\u001b[1;32m   3792\u001b[0m         \u001b[0;32mexcept\u001b[0m \u001b[0mKeyError\u001b[0m \u001b[0;32mas\u001b[0m \u001b[0merr\u001b[0m\u001b[0;34m:\u001b[0m\u001b[0;34m\u001b[0m\u001b[0;34m\u001b[0m\u001b[0m\n",
            "\u001b[0;32mindex.pyx\u001b[0m in \u001b[0;36mpandas._libs.index.IndexEngine.get_loc\u001b[0;34m()\u001b[0m\n",
            "\u001b[0;32mindex.pyx\u001b[0m in \u001b[0;36mpandas._libs.index.IndexEngine.get_loc\u001b[0;34m()\u001b[0m\n",
            "\u001b[0;32mpandas/_libs/hashtable_class_helper.pxi\u001b[0m in \u001b[0;36mpandas._libs.hashtable.PyObjectHashTable.get_item\u001b[0;34m()\u001b[0m\n",
            "\u001b[0;32mpandas/_libs/hashtable_class_helper.pxi\u001b[0m in \u001b[0;36mpandas._libs.hashtable.PyObjectHashTable.get_item\u001b[0;34m()\u001b[0m\n",
            "\u001b[0;31mKeyError\u001b[0m: 'rolling_hash'",
            "\nThe above exception was the direct cause of the following exception:\n",
            "\u001b[0;31mKeyError\u001b[0m                                  Traceback (most recent call last)",
            "\u001b[0;32m<ipython-input-13-fc4dd7e17431>\u001b[0m in \u001b[0;36m<cell line: 19>\u001b[0;34m()\u001b[0m\n\u001b[1;32m     17\u001b[0m \u001b[0;34m\u001b[0m\u001b[0m\n\u001b[1;32m     18\u001b[0m \u001b[0;31m# Box plot of rolling_hash for Quixnar species\u001b[0m\u001b[0;34m\u001b[0m\u001b[0;34m\u001b[0m\u001b[0m\n\u001b[0;32m---> 19\u001b[0;31m \u001b[0mplt\u001b[0m\u001b[0;34m.\u001b[0m\u001b[0mboxplot\u001b[0m\u001b[0;34m(\u001b[0m\u001b[0mquixnar_data\u001b[0m\u001b[0;34m[\u001b[0m\u001b[0;34m'rolling_hash'\u001b[0m\u001b[0;34m]\u001b[0m\u001b[0;34m)\u001b[0m\u001b[0;34m\u001b[0m\u001b[0;34m\u001b[0m\u001b[0m\n\u001b[0m\u001b[1;32m     20\u001b[0m \u001b[0mplt\u001b[0m\u001b[0;34m.\u001b[0m\u001b[0mtitle\u001b[0m\u001b[0;34m(\u001b[0m\u001b[0;34m'Distribution of Rolling Hash Values (Quixnar)'\u001b[0m\u001b[0;34m)\u001b[0m\u001b[0;34m\u001b[0m\u001b[0;34m\u001b[0m\u001b[0m\n\u001b[1;32m     21\u001b[0m \u001b[0mplt\u001b[0m\u001b[0;34m.\u001b[0m\u001b[0mylabel\u001b[0m\u001b[0;34m(\u001b[0m\u001b[0;34m'Rolling Hash Value'\u001b[0m\u001b[0;34m)\u001b[0m\u001b[0;34m\u001b[0m\u001b[0;34m\u001b[0m\u001b[0m\n",
            "\u001b[0;32m/usr/local/lib/python3.10/dist-packages/pandas/core/frame.py\u001b[0m in \u001b[0;36m__getitem__\u001b[0;34m(self, key)\u001b[0m\n\u001b[1;32m   3891\u001b[0m             \u001b[0;32mif\u001b[0m \u001b[0mself\u001b[0m\u001b[0;34m.\u001b[0m\u001b[0mcolumns\u001b[0m\u001b[0;34m.\u001b[0m\u001b[0mnlevels\u001b[0m \u001b[0;34m>\u001b[0m \u001b[0;36m1\u001b[0m\u001b[0;34m:\u001b[0m\u001b[0;34m\u001b[0m\u001b[0;34m\u001b[0m\u001b[0m\n\u001b[1;32m   3892\u001b[0m                 \u001b[0;32mreturn\u001b[0m \u001b[0mself\u001b[0m\u001b[0;34m.\u001b[0m\u001b[0m_getitem_multilevel\u001b[0m\u001b[0;34m(\u001b[0m\u001b[0mkey\u001b[0m\u001b[0;34m)\u001b[0m\u001b[0;34m\u001b[0m\u001b[0;34m\u001b[0m\u001b[0m\n\u001b[0;32m-> 3893\u001b[0;31m             \u001b[0mindexer\u001b[0m \u001b[0;34m=\u001b[0m \u001b[0mself\u001b[0m\u001b[0;34m.\u001b[0m\u001b[0mcolumns\u001b[0m\u001b[0;34m.\u001b[0m\u001b[0mget_loc\u001b[0m\u001b[0;34m(\u001b[0m\u001b[0mkey\u001b[0m\u001b[0;34m)\u001b[0m\u001b[0;34m\u001b[0m\u001b[0;34m\u001b[0m\u001b[0m\n\u001b[0m\u001b[1;32m   3894\u001b[0m             \u001b[0;32mif\u001b[0m \u001b[0mis_integer\u001b[0m\u001b[0;34m(\u001b[0m\u001b[0mindexer\u001b[0m\u001b[0;34m)\u001b[0m\u001b[0;34m:\u001b[0m\u001b[0;34m\u001b[0m\u001b[0;34m\u001b[0m\u001b[0m\n\u001b[1;32m   3895\u001b[0m                 \u001b[0mindexer\u001b[0m \u001b[0;34m=\u001b[0m \u001b[0;34m[\u001b[0m\u001b[0mindexer\u001b[0m\u001b[0;34m]\u001b[0m\u001b[0;34m\u001b[0m\u001b[0;34m\u001b[0m\u001b[0m\n",
            "\u001b[0;32m/usr/local/lib/python3.10/dist-packages/pandas/core/indexes/base.py\u001b[0m in \u001b[0;36mget_loc\u001b[0;34m(self, key)\u001b[0m\n\u001b[1;32m   3796\u001b[0m             ):\n\u001b[1;32m   3797\u001b[0m                 \u001b[0;32mraise\u001b[0m \u001b[0mInvalidIndexError\u001b[0m\u001b[0;34m(\u001b[0m\u001b[0mkey\u001b[0m\u001b[0;34m)\u001b[0m\u001b[0;34m\u001b[0m\u001b[0;34m\u001b[0m\u001b[0m\n\u001b[0;32m-> 3798\u001b[0;31m             \u001b[0;32mraise\u001b[0m \u001b[0mKeyError\u001b[0m\u001b[0;34m(\u001b[0m\u001b[0mkey\u001b[0m\u001b[0;34m)\u001b[0m \u001b[0;32mfrom\u001b[0m \u001b[0merr\u001b[0m\u001b[0;34m\u001b[0m\u001b[0;34m\u001b[0m\u001b[0m\n\u001b[0m\u001b[1;32m   3799\u001b[0m         \u001b[0;32mexcept\u001b[0m \u001b[0mTypeError\u001b[0m\u001b[0;34m:\u001b[0m\u001b[0;34m\u001b[0m\u001b[0;34m\u001b[0m\u001b[0m\n\u001b[1;32m   3800\u001b[0m             \u001b[0;31m# If we have a listlike key, _check_indexing_error will raise\u001b[0m\u001b[0;34m\u001b[0m\u001b[0;34m\u001b[0m\u001b[0m\n",
            "\u001b[0;31mKeyError\u001b[0m: 'rolling_hash'"
          ]
        }
      ],
      "source": [
        "# Some plots of quixnar_data for data analysis\n",
        "import matplotlib.pyplot as plt\n",
        "# Histogram of num_words for Quixnar species\n",
        "plt.hist(quixnar_data['num_words'], bins=10)\n",
        "plt.title('Distribution of Number of Words in Messages (Quixnar)')\n",
        "plt.xlabel('Number of Words')\n",
        "plt.ylabel('Frequency')\n",
        "plt.show()\n",
        "\n",
        "# Scatter plot of num_words vs. num_characters for Quixnar species\n",
        "plt.scatter(quixnar_data['num_words'], quixnar_data['num_characters'])\n",
        "plt.title('Number of Words vs. Number of Characters (Quixnar)')\n",
        "plt.xlabel('Number of Words')\n",
        "plt.ylabel('Number of Characters')\n",
        "plt.show()\n",
        "\n",
        "# Box plot of rolling_hash for Quixnar species\n",
        "plt.boxplot(quixnar_data['rolling_hash'])\n",
        "plt.title('Distribution of Rolling Hash Values (Quixnar)')\n",
        "plt.ylabel('Rolling Hash Value')\n",
        "plt.show()\n",
        "\n",
        "# Bar chart of tail values for Quixnar species\n",
        "tail_counts = quixnar_data['tail'].value_counts()\n",
        "plt.bar(tail_counts.index, tail_counts.values)\n",
        "plt.title('Distribution of Tail Values (Quixnar)')\n",
        "plt.xlabel('Tail Value (0 or 1)')\n",
        "plt.ylabel('Frequency')\n",
        "plt.show()\n"
      ]
    },
    {
      "cell_type": "code",
      "execution_count": null,
      "metadata": {
        "colab": {
          "base_uri": "https://localhost:8080/"
        },
        "id": "bOzJm5-PW6F0",
        "outputId": "fc9d2ee3-a038-4e6f-bdfa-d6ecbd1e06fd"
      },
      "outputs": [
        {
          "name": "stdout",
          "output_type": "stream",
          "text": [
            "Epoch 1/10\n"
          ]
        },
        {
          "name": "stderr",
          "output_type": "stream",
          "text": [
            "<ipython-input-14-330f5cfc263c>:19: SettingWithCopyWarning: \n",
            "A value is trying to be set on a copy of a slice from a DataFrame.\n",
            "Try using .loc[row_indexer,col_indexer] = value instead\n",
            "\n",
            "See the caveats in the documentation: https://pandas.pydata.org/pandas-docs/stable/user_guide/indexing.html#returning-a-view-versus-a-copy\n",
            "  X['tail'] = X['tail'].apply(lambda x: 1 if x == 'yes' else 0)\n",
            "/usr/local/lib/python3.10/dist-packages/keras/src/layers/core/embedding.py:90: UserWarning: Argument `input_length` is deprecated. Just remove it.\n",
            "  warnings.warn(\n"
          ]
        },
        {
          "name": "stdout",
          "output_type": "stream",
          "text": [
            "\u001b[1m13/13\u001b[0m \u001b[32m━━━━━━━━━━━━━━━━━━━━\u001b[0m\u001b[37m\u001b[0m \u001b[1m5s\u001b[0m 202ms/step - accuracy: 0.1140 - loss: 2.2969 - val_accuracy: 0.2900 - val_loss: 2.2670\n",
            "Epoch 2/10\n",
            "\u001b[1m13/13\u001b[0m \u001b[32m━━━━━━━━━━━━━━━━━━━━\u001b[0m\u001b[37m\u001b[0m \u001b[1m2s\u001b[0m 190ms/step - accuracy: 0.3508 - loss: 2.2398 - val_accuracy: 0.3200 - val_loss: 2.1750\n",
            "Epoch 3/10\n",
            "\u001b[1m13/13\u001b[0m \u001b[32m━━━━━━━━━━━━━━━━━━━━\u001b[0m\u001b[37m\u001b[0m \u001b[1m4s\u001b[0m 313ms/step - accuracy: 0.3601 - loss: 2.0451 - val_accuracy: 0.5200 - val_loss: 1.8915\n",
            "Epoch 4/10\n",
            "\u001b[1m13/13\u001b[0m \u001b[32m━━━━━━━━━━━━━━━━━━━━\u001b[0m\u001b[37m\u001b[0m \u001b[1m5s\u001b[0m 293ms/step - accuracy: 0.5827 - loss: 1.7481 - val_accuracy: 0.5000 - val_loss: 1.3629\n",
            "Epoch 5/10\n",
            "\u001b[1m13/13\u001b[0m \u001b[32m━━━━━━━━━━━━━━━━━━━━\u001b[0m\u001b[37m\u001b[0m \u001b[1m4s\u001b[0m 180ms/step - accuracy: 0.5589 - loss: 1.1665 - val_accuracy: 0.5600 - val_loss: 1.1202\n",
            "Epoch 6/10\n",
            "\u001b[1m13/13\u001b[0m \u001b[32m━━━━━━━━━━━━━━━━━━━━\u001b[0m\u001b[37m\u001b[0m \u001b[1m3s\u001b[0m 222ms/step - accuracy: 0.6357 - loss: 0.9577 - val_accuracy: 0.6300 - val_loss: 0.8855\n",
            "Epoch 7/10\n",
            "\u001b[1m13/13\u001b[0m \u001b[32m━━━━━━━━━━━━━━━━━━━━\u001b[0m\u001b[37m\u001b[0m \u001b[1m4s\u001b[0m 277ms/step - accuracy: 0.7156 - loss: 0.7195 - val_accuracy: 0.6700 - val_loss: 0.7088\n",
            "Epoch 8/10\n",
            "\u001b[1m13/13\u001b[0m \u001b[32m━━━━━━━━━━━━━━━━━━━━\u001b[0m\u001b[37m\u001b[0m \u001b[1m4s\u001b[0m 224ms/step - accuracy: 0.7706 - loss: 0.6097 - val_accuracy: 0.6900 - val_loss: 0.6235\n",
            "Epoch 9/10\n",
            "\u001b[1m13/13\u001b[0m \u001b[32m━━━━━━━━━━━━━━━━━━━━\u001b[0m\u001b[37m\u001b[0m \u001b[1m4s\u001b[0m 178ms/step - accuracy: 0.7763 - loss: 0.5496 - val_accuracy: 0.6900 - val_loss: 0.5724\n",
            "Epoch 10/10\n",
            "\u001b[1m13/13\u001b[0m \u001b[32m━━━━━━━━━━━━━━━━━━━━\u001b[0m\u001b[37m\u001b[0m \u001b[1m4s\u001b[0m 338ms/step - accuracy: 0.8008 - loss: 0.5095 - val_accuracy: 0.7100 - val_loss: 0.5571\n",
            "\u001b[1m4/4\u001b[0m \u001b[32m━━━━━━━━━━━━━━━━━━━━\u001b[0m\u001b[37m\u001b[0m \u001b[1m0s\u001b[0m 44ms/step - accuracy: 0.7080 - loss: 0.5634\n",
            "Test Loss: 0.5571205615997314\n",
            "Test Accuracy: 0.7099999785423279\n",
            "\u001b[1m4/4\u001b[0m \u001b[32m━━━━━━━━━━━━━━━━━━━━\u001b[0m\u001b[37m\u001b[0m \u001b[1m1s\u001b[0m 98ms/step\n",
            "['Faerix' 'Mythron' 'Sentire' 'Faerix' 'Quixnar' 'Quixnar' 'Zorblax'\n",
            " 'Quixnar' 'Emotivor' 'Quixnar']\n"
          ]
        }
      ],
      "source": [
        "import pandas as pd\n",
        "from sklearn.model_selection import train_test_split\n",
        "from sklearn.preprocessing import LabelEncoder\n",
        "from tensorflow.keras.models import Sequential\n",
        "from tensorflow.keras.layers import Embedding, LSTM, Dense\n",
        "from tensorflow.keras.preprocessing.text import Tokenizer\n",
        "from tensorflow.keras.preprocessing.sequence import pad_sequences\n",
        "\n",
        "\n",
        "data2 = pd.read_csv('data.csv')\n",
        "\n",
        "# Preprocess the data\n",
        "X = data[['message', 'tail', 'fingers']]\n",
        "y = data['species']\n",
        "\n",
        "# Encode the target variable 'species'\n",
        "label_encoder = LabelEncoder()\n",
        "y = label_encoder.fit_transform(y)\n",
        "\n",
        "# Tokenize the 'message' column\n",
        "tokenizer = Tokenizer(num_words=5000)  # num_words can be adjusted\n",
        "tokenizer.fit_on_texts(X['message'])\n",
        "X_message_sequences = tokenizer.texts_to_sequences(X['message'])\n",
        "\n",
        "# Pad sequences to a fixed length\n",
        "max_sequence_length = 100  \n",
        "X_message_padded = pad_sequences(X_message_sequences, maxlen=max_sequence_length)\n",
        "\n",
        "# Create input features by combining 'message', 'tail', and 'fingers'\n",
        "X_features = pd.concat([pd.DataFrame(X_message_padded), X[['tail', 'fingers']]], axis=1)\n",
        "\n",
        "# Split the data into training and testing sets\n",
        "X_train, X_test, y_train, y_test = train_test_split(X_features, y, test_size=0.2, random_state=42)\n",
        "\n",
        "# Build the neural network model\n",
        "model = Sequential()\n",
        "model.add(Embedding(5000, 128, input_length=max_sequence_length))  # Embedding layer for text\n",
        "model.add(LSTM(128))  # LSTM layer for sequence processing\n",
        "model.add(Dense(len(label_encoder.classes_), activation='softmax'))  # Output layer with softmax for multi-class classification\n",
        "\n",
        "# Compiling\n",
        "model.compile(optimizer='adam', loss='sparse_categorical_crossentropy', metrics=['accuracy'])\n",
        "\n",
        "# Training\n",
        "model.fit(X_train, y_train, epochs=10, batch_size=32, validation_data=(X_test, y_test))\n",
        "\n",
        "# Evaluation\n",
        "loss, accuracy = model.evaluate(X_test, y_test)\n",
        "print('Test Loss:', loss)\n",
        "print('Test Accuracy:', accuracy)\n",
        "\n",
        "# Making predictions\n",
        "predictions = model.predict(X_test)\n",
        "predicted_species = label_encoder.inverse_transform(predictions.argmax(axis=1))\n",
        "\n",
        "print(predicted_species[:10])\n"
      ]
    },
    {
      "cell_type": "code",
      "execution_count": null,
      "metadata": {
        "colab": {
          "base_uri": "https://localhost:8080/"
        },
        "id": "ApjR7GHKnJw8",
        "outputId": "14c1debc-91ef-4c0b-c346-87e89e49a98b"
      },
      "outputs": [
        {
          "name": "stdout",
          "output_type": "stream",
          "text": [
            "Epoch 1/9\n"
          ]
        },
        {
          "name": "stderr",
          "output_type": "stream",
          "text": [
            "<ipython-input-25-a3e9c161ec5b>:17: SettingWithCopyWarning: \n",
            "A value is trying to be set on a copy of a slice from a DataFrame.\n",
            "Try using .loc[row_indexer,col_indexer] = value instead\n",
            "\n",
            "See the caveats in the documentation: https://pandas.pydata.org/pandas-docs/stable/user_guide/indexing.html#returning-a-view-versus-a-copy\n",
            "  X['tail'] = X['tail'].apply(lambda x: 1 if x == 'yes' else 0)\n",
            "/usr/local/lib/python3.10/dist-packages/keras/src/layers/core/embedding.py:90: UserWarning: Argument `input_length` is deprecated. Just remove it.\n",
            "  warnings.warn(\n"
          ]
        },
        {
          "name": "stdout",
          "output_type": "stream",
          "text": [
            "\u001b[1m13/13\u001b[0m \u001b[32m━━━━━━━━━━━━━━━━━━━━\u001b[0m\u001b[37m\u001b[0m \u001b[1m2s\u001b[0m 23ms/step - accuracy: 0.1405 - loss: 2.2989 - val_accuracy: 0.3100 - val_loss: 2.2829\n",
            "Epoch 2/9\n",
            "\u001b[1m13/13\u001b[0m \u001b[32m━━━━━━━━━━━━━━━━━━━━\u001b[0m\u001b[37m\u001b[0m \u001b[1m0s\u001b[0m 7ms/step - accuracy: 0.4561 - loss: 2.2669 - val_accuracy: 0.4600 - val_loss: 2.2286\n",
            "Epoch 3/9\n",
            "\u001b[1m13/13\u001b[0m \u001b[32m━━━━━━━━━━━━━━━━━━━━\u001b[0m\u001b[37m\u001b[0m \u001b[1m0s\u001b[0m 6ms/step - accuracy: 0.4822 - loss: 2.1745 - val_accuracy: 0.4100 - val_loss: 2.0073\n",
            "Epoch 4/9\n",
            "\u001b[1m13/13\u001b[0m \u001b[32m━━━━━━━━━━━━━━━━━━━━\u001b[0m\u001b[37m\u001b[0m \u001b[1m0s\u001b[0m 8ms/step - accuracy: 0.3960 - loss: 1.8269 - val_accuracy: 0.4000 - val_loss: 1.4537\n",
            "Epoch 5/9\n",
            "\u001b[1m13/13\u001b[0m \u001b[32m━━━━━━━━━━━━━━━━━━━━\u001b[0m\u001b[37m\u001b[0m \u001b[1m0s\u001b[0m 7ms/step - accuracy: 0.4958 - loss: 1.3338 - val_accuracy: 0.5600 - val_loss: 1.0931\n",
            "Epoch 6/9\n",
            "\u001b[1m13/13\u001b[0m \u001b[32m━━━━━━━━━━━━━━━━━━━━\u001b[0m\u001b[37m\u001b[0m \u001b[1m0s\u001b[0m 7ms/step - accuracy: 0.6091 - loss: 0.9985 - val_accuracy: 0.6200 - val_loss: 0.8976\n",
            "Epoch 7/9\n",
            "\u001b[1m13/13\u001b[0m \u001b[32m━━━━━━━━━━━━━━━━━━━━\u001b[0m\u001b[37m\u001b[0m \u001b[1m0s\u001b[0m 7ms/step - accuracy: 0.6802 - loss: 0.7883 - val_accuracy: 0.6200 - val_loss: 0.7761\n",
            "Epoch 8/9\n",
            "\u001b[1m13/13\u001b[0m \u001b[32m━━━━━━━━━━━━━━━━━━━━\u001b[0m\u001b[37m\u001b[0m \u001b[1m0s\u001b[0m 7ms/step - accuracy: 0.7204 - loss: 0.6418 - val_accuracy: 0.6500 - val_loss: 0.7130\n",
            "Epoch 9/9\n",
            "\u001b[1m13/13\u001b[0m \u001b[32m━━━━━━━━━━━━━━━━━━━━\u001b[0m\u001b[37m\u001b[0m \u001b[1m0s\u001b[0m 6ms/step - accuracy: 0.8200 - loss: 0.5286 - val_accuracy: 0.6300 - val_loss: 0.7079\n",
            "\u001b[1m4/4\u001b[0m \u001b[32m━━━━━━━━━━━━━━━━━━━━\u001b[0m\u001b[37m\u001b[0m \u001b[1m0s\u001b[0m 4ms/step - accuracy: 0.6187 - loss: 0.7143 \n",
            "Test Loss: 0.707897961139679\n",
            "Test Accuracy: 0.6299999952316284\n",
            "\u001b[1m4/4\u001b[0m \u001b[32m━━━━━━━━━━━━━━━━━━━━\u001b[0m\u001b[37m\u001b[0m \u001b[1m0s\u001b[0m 46ms/step\n",
            "['Mythron' 'Mythron' 'Emotivor' 'Mythron' 'Quixnar' 'Zorblax' 'Zorblax'\n",
            " 'Quixnar' 'Emotivor' 'Quixnar']\n"
          ]
        }
      ],
      "source": [
        "import pandas as pd\n",
        "from sklearn.model_selection import train_test_split\n",
        "from sklearn.preprocessing import LabelEncoder\n",
        "from tensorflow.keras.models import Sequential\n",
        "from tensorflow.keras.layers import Embedding, LSTM, Dense\n",
        "from tensorflow.keras.preprocessing.text import Tokenizer\n",
        "from tensorflow.keras.preprocessing.sequence import pad_sequences\n",
        "\n",
        "# Assuming 'data.csv' is in the current working directory\n",
        "data = pd.read_csv('data.csv')\n",
        "\n",
        "# Preprocessing\n",
        "X = data[['message', 'tail', 'fingers']]\n",
        "y = data['species']\n",
        "\n",
        "# Add a new feature: number of characters in the 'message' column\n",
        "X['message_length'] = X['message'].apply(len)\n",
        "\n",
        "# Encode the target variable 'species'\n",
        "label_encoder = LabelEncoder()\n",
        "y = label_encoder.fit_transform(y)\n",
        "\n",
        "# Tokenize the 'message' column\n",
        "tokenizer = Tokenizer(num_words=5000)  # Adjust num_words as needed\n",
        "tokenizer.fit_on_texts(X['message'])\n",
        "X_message_sequences = tokenizer.texts_to_sequences(X['message'])\n",
        "\n",
        "# Pad sequences to a fixed length (maximum 6 words, as specified)\n",
        "max_sequence_length = 6\n",
        "X_message_padded = pad_sequences(X_message_sequences, maxlen=max_sequence_length)\n",
        "\n",
        "# Create input features by combining 'message', 'tail', 'fingers', and 'message_length'\n",
        "X_features = pd.concat([pd.DataFrame(X_message_padded), X[['tail', 'fingers', 'message_length']]], axis=1)\n",
        "\n",
        "# Split the data into training and testing sets\n",
        "X_train, X_test, y_train, y_test = train_test_split(X_features, y, test_size=0.2, random_state=42)\n",
        "\n",
        "# Build the neural network model\n",
        "model = Sequential()\n",
        "model.add(Embedding(5000, 64, input_length=max_sequence_length))  # Embedding layer for text\n",
        "model.add(LSTM(64))  # LSTM layer for sequence processing\n",
        "model.add(Dense(len(label_encoder.classes_), activation='softmax'))  # Output layer with softmax for multi-class classification\n",
        "\n",
        "# Compile the model\n",
        "model.compile(optimizer='adam', loss='sparse_categorical_crossentropy', metrics=['accuracy'])\n",
        "\n",
        "# Train the model\n",
        "model.fit(X_train, y_train, epochs=9, batch_size=32, validation_data=(X_test, y_test))\n",
        "\n",
        "# Evaluate the model\n",
        "loss, accuracy = model.evaluate(X_test, y_test)\n",
        "print('Test Loss:', loss)\n",
        "print('Test Accuracy:', accuracy)\n",
        "\n",
        "# Make predictions\n",
        "predictions = model.predict(X_test)\n",
        "predicted_species = label_encoder.inverse_transform(predictions.argmax(axis=1))\n",
        "\n",
        "# Print some predictions\n",
        "print(predicted_species[:10])\n"
      ]
    },
    {
      "cell_type": "code",
      "execution_count": 10,
      "metadata": {
        "colab": {
          "base_uri": "https://localhost:8080/"
        },
        "id": "6crU3ujAyv6R",
        "outputId": "ce84fd2f-3552-4cbc-e5c9-1094afb9ff2d"
      },
      "outputs": [
        {
          "name": "stdout",
          "output_type": "stream",
          "text": [
            "Epoch 1/10\n"
          ]
        },
        {
          "name": "stderr",
          "output_type": "stream",
          "text": [
            "<ipython-input-10-28c9519a575c>:17: SettingWithCopyWarning: \n",
            "A value is trying to be set on a copy of a slice from a DataFrame.\n",
            "Try using .loc[row_indexer,col_indexer] = value instead\n",
            "\n",
            "See the caveats in the documentation: https://pandas.pydata.org/pandas-docs/stable/user_guide/indexing.html#returning-a-view-versus-a-copy\n",
            "  X['tail'] = X['tail'].apply(lambda x: 1 if x == 'yes' else 0)\n",
            "/usr/local/lib/python3.10/dist-packages/keras/src/layers/core/embedding.py:90: UserWarning: Argument `input_length` is deprecated. Just remove it.\n",
            "  warnings.warn(\n"
          ]
        },
        {
          "name": "stdout",
          "output_type": "stream",
          "text": [
            "\u001b[1m13/13\u001b[0m \u001b[32m━━━━━━━━━━━━━━━━━━━━\u001b[0m\u001b[37m\u001b[0m \u001b[1m2s\u001b[0m 37ms/step - accuracy: 0.1380 - loss: 2.2962 - val_accuracy: 0.1600 - val_loss: 2.2680\n",
            "Epoch 2/10\n",
            "\u001b[1m13/13\u001b[0m \u001b[32m━━━━━━━━━━━━━━━━━━━━\u001b[0m\u001b[37m\u001b[0m \u001b[1m0s\u001b[0m 14ms/step - accuracy: 0.2628 - loss: 2.2479 - val_accuracy: 0.2300 - val_loss: 2.2069\n",
            "Epoch 3/10\n",
            "\u001b[1m13/13\u001b[0m \u001b[32m━━━━━━━━━━━━━━━━━━━━\u001b[0m\u001b[37m\u001b[0m \u001b[1m0s\u001b[0m 13ms/step - accuracy: 0.3927 - loss: 2.1454 - val_accuracy: 0.3900 - val_loss: 2.0049\n",
            "Epoch 4/10\n",
            "\u001b[1m13/13\u001b[0m \u001b[32m━━━━━━━━━━━━━━━━━━━━\u001b[0m\u001b[37m\u001b[0m \u001b[1m0s\u001b[0m 12ms/step - accuracy: 0.4643 - loss: 1.8457 - val_accuracy: 0.5000 - val_loss: 1.5584\n",
            "Epoch 5/10\n",
            "\u001b[1m13/13\u001b[0m \u001b[32m━━━━━━━━━━━━━━━━━━━━\u001b[0m\u001b[37m\u001b[0m \u001b[1m0s\u001b[0m 11ms/step - accuracy: 0.5566 - loss: 1.2929 - val_accuracy: 0.7000 - val_loss: 0.9957\n",
            "Epoch 6/10\n",
            "\u001b[1m13/13\u001b[0m \u001b[32m━━━━━━━━━━━━━━━━━━━━\u001b[0m\u001b[37m\u001b[0m \u001b[1m0s\u001b[0m 11ms/step - accuracy: 0.7909 - loss: 0.7797 - val_accuracy: 0.8300 - val_loss: 0.6821\n",
            "Epoch 7/10\n",
            "\u001b[1m13/13\u001b[0m \u001b[32m━━━━━━━━━━━━━━━━━━━━\u001b[0m\u001b[37m\u001b[0m \u001b[1m0s\u001b[0m 11ms/step - accuracy: 0.8469 - loss: 0.5334 - val_accuracy: 0.8600 - val_loss: 0.5053\n",
            "Epoch 8/10\n",
            "\u001b[1m13/13\u001b[0m \u001b[32m━━━━━━━━━━━━━━━━━━━━\u001b[0m\u001b[37m\u001b[0m \u001b[1m0s\u001b[0m 12ms/step - accuracy: 0.8319 - loss: 0.4298 - val_accuracy: 0.8400 - val_loss: 0.4740\n",
            "Epoch 9/10\n",
            "\u001b[1m13/13\u001b[0m \u001b[32m━━━━━━━━━━━━━━━━━━━━\u001b[0m\u001b[37m\u001b[0m \u001b[1m0s\u001b[0m 11ms/step - accuracy: 0.8668 - loss: 0.3427 - val_accuracy: 0.7900 - val_loss: 0.4879\n",
            "Epoch 10/10\n",
            "\u001b[1m13/13\u001b[0m \u001b[32m━━━━━━━━━━━━━━━━━━━━\u001b[0m\u001b[37m\u001b[0m \u001b[1m0s\u001b[0m 11ms/step - accuracy: 0.8924 - loss: 0.3144 - val_accuracy: 0.8200 - val_loss: 0.4420\n",
            "\u001b[1m4/4\u001b[0m \u001b[32m━━━━━━━━━━━━━━━━━━━━\u001b[0m\u001b[37m\u001b[0m \u001b[1m0s\u001b[0m 6ms/step - accuracy: 0.8000 - loss: 0.4144 \n",
            "Test Loss: 0.4089622497558594\n",
            "Test Accuracy: 0.8100000023841858\n",
            "Epoch 1/10\n"
          ]
        },
        {
          "name": "stderr",
          "output_type": "stream",
          "text": [
            "/usr/local/lib/python3.10/dist-packages/keras/src/layers/core/embedding.py:90: UserWarning: Argument `input_length` is deprecated. Just remove it.\n",
            "  warnings.warn(\n"
          ]
        },
        {
          "name": "stdout",
          "output_type": "stream",
          "text": [
            "\u001b[1m13/13\u001b[0m \u001b[32m━━━━━━━━━━━━━━━━━━━━\u001b[0m\u001b[37m\u001b[0m \u001b[1m2s\u001b[0m 36ms/step - accuracy: 0.1958 - loss: 2.2929 - val_accuracy: 0.2600 - val_loss: 2.2697\n",
            "Epoch 2/10\n",
            "\u001b[1m13/13\u001b[0m \u001b[32m━━━━━━━━━━━━━━━━━━━━\u001b[0m\u001b[37m\u001b[0m \u001b[1m0s\u001b[0m 17ms/step - accuracy: 0.3348 - loss: 2.2308 - val_accuracy: 0.2400 - val_loss: 2.2018\n",
            "Epoch 3/10\n",
            "\u001b[1m13/13\u001b[0m \u001b[32m━━━━━━━━━━━━━━━━━━━━\u001b[0m\u001b[37m\u001b[0m \u001b[1m0s\u001b[0m 12ms/step - accuracy: 0.2455 - loss: 2.1215 - val_accuracy: 0.2800 - val_loss: 2.0347\n",
            "Epoch 4/10\n",
            "\u001b[1m13/13\u001b[0m \u001b[32m━━━━━━━━━━━━━━━━━━━━\u001b[0m\u001b[37m\u001b[0m \u001b[1m0s\u001b[0m 12ms/step - accuracy: 0.4411 - loss: 1.7985 - val_accuracy: 0.6300 - val_loss: 1.5932\n",
            "Epoch 5/10\n",
            "\u001b[1m13/13\u001b[0m \u001b[32m━━━━━━━━━━━━━━━━━━━━\u001b[0m\u001b[37m\u001b[0m \u001b[1m0s\u001b[0m 11ms/step - accuracy: 0.7041 - loss: 1.3609 - val_accuracy: 0.6700 - val_loss: 1.1362\n",
            "Epoch 6/10\n",
            "\u001b[1m13/13\u001b[0m \u001b[32m━━━━━━━━━━━━━━━━━━━━\u001b[0m\u001b[37m\u001b[0m \u001b[1m0s\u001b[0m 10ms/step - accuracy: 0.7936 - loss: 0.8776 - val_accuracy: 0.8200 - val_loss: 0.8087\n",
            "Epoch 7/10\n",
            "\u001b[1m13/13\u001b[0m \u001b[32m━━━━━━━━━━━━━━━━━━━━\u001b[0m\u001b[37m\u001b[0m \u001b[1m0s\u001b[0m 11ms/step - accuracy: 0.8720 - loss: 0.5145 - val_accuracy: 0.7700 - val_loss: 0.6328\n",
            "Epoch 8/10\n",
            "\u001b[1m13/13\u001b[0m \u001b[32m━━━━━━━━━━━━━━━━━━━━\u001b[0m\u001b[37m\u001b[0m \u001b[1m0s\u001b[0m 11ms/step - accuracy: 0.8924 - loss: 0.3914 - val_accuracy: 0.8100 - val_loss: 0.5175\n",
            "Epoch 9/10\n",
            "\u001b[1m13/13\u001b[0m \u001b[32m━━━━━━━━━━━━━━━━━━━━\u001b[0m\u001b[37m\u001b[0m \u001b[1m0s\u001b[0m 11ms/step - accuracy: 0.9077 - loss: 0.3263 - val_accuracy: 0.7900 - val_loss: 0.5069\n",
            "Epoch 10/10\n",
            "\u001b[1m13/13\u001b[0m \u001b[32m━━━━━━━━━━━━━━━━━━━━\u001b[0m\u001b[37m\u001b[0m \u001b[1m0s\u001b[0m 10ms/step - accuracy: 0.9094 - loss: 0.2629 - val_accuracy: 0.8100 - val_loss: 0.5389\n",
            "\u001b[1m4/4\u001b[0m \u001b[32m━━━━━━━━━━━━━━━━━━━━\u001b[0m\u001b[37m\u001b[0m \u001b[1m0s\u001b[0m 6ms/step - accuracy: 0.8176 - loss: 0.5138 \n",
            "Test Loss: 0.5256531238555908\n",
            "Test Accuracy: 0.8199999928474426\n",
            "Epoch 1/10\n"
          ]
        },
        {
          "name": "stderr",
          "output_type": "stream",
          "text": [
            "/usr/local/lib/python3.10/dist-packages/keras/src/layers/core/embedding.py:90: UserWarning: Argument `input_length` is deprecated. Just remove it.\n",
            "  warnings.warn(\n"
          ]
        },
        {
          "name": "stdout",
          "output_type": "stream",
          "text": [
            "\u001b[1m13/13\u001b[0m \u001b[32m━━━━━━━━━━━━━━━━━━━━\u001b[0m\u001b[37m\u001b[0m \u001b[1m2s\u001b[0m 31ms/step - accuracy: 0.1562 - loss: 2.2941 - val_accuracy: 0.2900 - val_loss: 2.2699\n",
            "Epoch 2/10\n",
            "\u001b[1m13/13\u001b[0m \u001b[32m━━━━━━━━━━━━━━━━━━━━\u001b[0m\u001b[37m\u001b[0m \u001b[1m0s\u001b[0m 13ms/step - accuracy: 0.3568 - loss: 2.2434 - val_accuracy: 0.2800 - val_loss: 2.2080\n",
            "Epoch 3/10\n",
            "\u001b[1m13/13\u001b[0m \u001b[32m━━━━━━━━━━━━━━━━━━━━\u001b[0m\u001b[37m\u001b[0m \u001b[1m0s\u001b[0m 13ms/step - accuracy: 0.4158 - loss: 2.1435 - val_accuracy: 0.3800 - val_loss: 2.0391\n",
            "Epoch 4/10\n",
            "\u001b[1m13/13\u001b[0m \u001b[32m━━━━━━━━━━━━━━━━━━━━\u001b[0m\u001b[37m\u001b[0m \u001b[1m0s\u001b[0m 12ms/step - accuracy: 0.4989 - loss: 1.8864 - val_accuracy: 0.5400 - val_loss: 1.7312\n",
            "Epoch 5/10\n",
            "\u001b[1m13/13\u001b[0m \u001b[32m━━━━━━━━━━━━━━━━━━━━\u001b[0m\u001b[37m\u001b[0m \u001b[1m0s\u001b[0m 18ms/step - accuracy: 0.7014 - loss: 1.4790 - val_accuracy: 0.6300 - val_loss: 1.3072\n",
            "Epoch 6/10\n",
            "\u001b[1m13/13\u001b[0m \u001b[32m━━━━━━━━━━━━━━━━━━━━\u001b[0m\u001b[37m\u001b[0m \u001b[1m0s\u001b[0m 21ms/step - accuracy: 0.7671 - loss: 1.0057 - val_accuracy: 0.7500 - val_loss: 0.9036\n",
            "Epoch 7/10\n",
            "\u001b[1m13/13\u001b[0m \u001b[32m━━━━━━━━━━━━━━━━━━━━\u001b[0m\u001b[37m\u001b[0m \u001b[1m0s\u001b[0m 18ms/step - accuracy: 0.8484 - loss: 0.6299 - val_accuracy: 0.8500 - val_loss: 0.5987\n",
            "Epoch 8/10\n",
            "\u001b[1m13/13\u001b[0m \u001b[32m━━━━━━━━━━━━━━━━━━━━\u001b[0m\u001b[37m\u001b[0m \u001b[1m0s\u001b[0m 18ms/step - accuracy: 0.8510 - loss: 0.4545 - val_accuracy: 0.8300 - val_loss: 0.4946\n",
            "Epoch 9/10\n",
            "\u001b[1m13/13\u001b[0m \u001b[32m━━━━━━━━━━━━━━━━━━━━\u001b[0m\u001b[37m\u001b[0m \u001b[1m0s\u001b[0m 16ms/step - accuracy: 0.8465 - loss: 0.3872 - val_accuracy: 0.8500 - val_loss: 0.4525\n",
            "Epoch 10/10\n",
            "\u001b[1m13/13\u001b[0m \u001b[32m━━━━━━━━━━━━━━━━━━━━\u001b[0m\u001b[37m\u001b[0m \u001b[1m0s\u001b[0m 19ms/step - accuracy: 0.9101 - loss: 0.2869 - val_accuracy: 0.8400 - val_loss: 0.4316\n",
            "\u001b[1m4/4\u001b[0m \u001b[32m━━━━━━━━━━━━━━━━━━━━\u001b[0m\u001b[37m\u001b[0m \u001b[1m0s\u001b[0m 8ms/step - accuracy: 0.8705 - loss: 0.3967 \n",
            "Test Loss: 0.4507308900356293\n",
            "Test Accuracy: 0.8299999833106995\n",
            "Epoch 1/10\n"
          ]
        },
        {
          "name": "stderr",
          "output_type": "stream",
          "text": [
            "/usr/local/lib/python3.10/dist-packages/keras/src/layers/core/embedding.py:90: UserWarning: Argument `input_length` is deprecated. Just remove it.\n",
            "  warnings.warn(\n"
          ]
        },
        {
          "name": "stdout",
          "output_type": "stream",
          "text": [
            "\u001b[1m13/13\u001b[0m \u001b[32m━━━━━━━━━━━━━━━━━━━━\u001b[0m\u001b[37m\u001b[0m \u001b[1m2s\u001b[0m 31ms/step - accuracy: 0.1436 - loss: 2.2970 - val_accuracy: 0.2000 - val_loss: 2.2762\n",
            "Epoch 2/10\n",
            "\u001b[1m13/13\u001b[0m \u001b[32m━━━━━━━━━━━━━━━━━━━━\u001b[0m\u001b[37m\u001b[0m \u001b[1m0s\u001b[0m 13ms/step - accuracy: 0.3525 - loss: 2.2445 - val_accuracy: 0.2700 - val_loss: 2.2137\n",
            "Epoch 3/10\n",
            "\u001b[1m13/13\u001b[0m \u001b[32m━━━━━━━━━━━━━━━━━━━━\u001b[0m\u001b[37m\u001b[0m \u001b[1m0s\u001b[0m 12ms/step - accuracy: 0.4184 - loss: 2.1353 - val_accuracy: 0.4300 - val_loss: 1.9814\n",
            "Epoch 4/10\n",
            "\u001b[1m13/13\u001b[0m \u001b[32m━━━━━━━━━━━━━━━━━━━━\u001b[0m\u001b[37m\u001b[0m \u001b[1m0s\u001b[0m 12ms/step - accuracy: 0.5130 - loss: 1.8279 - val_accuracy: 0.5700 - val_loss: 1.5553\n",
            "Epoch 5/10\n",
            "\u001b[1m13/13\u001b[0m \u001b[32m━━━━━━━━━━━━━━━━━━━━\u001b[0m\u001b[37m\u001b[0m \u001b[1m0s\u001b[0m 11ms/step - accuracy: 0.6688 - loss: 1.3015 - val_accuracy: 0.6600 - val_loss: 0.9811\n",
            "Epoch 6/10\n",
            "\u001b[1m13/13\u001b[0m \u001b[32m━━━━━━━━━━━━━━━━━━━━\u001b[0m\u001b[37m\u001b[0m \u001b[1m0s\u001b[0m 11ms/step - accuracy: 0.7459 - loss: 0.7850 - val_accuracy: 0.8200 - val_loss: 0.6821\n",
            "Epoch 7/10\n",
            "\u001b[1m13/13\u001b[0m \u001b[32m━━━━━━━━━━━━━━━━━━━━\u001b[0m\u001b[37m\u001b[0m \u001b[1m0s\u001b[0m 15ms/step - accuracy: 0.8297 - loss: 0.5484 - val_accuracy: 0.8100 - val_loss: 0.5186\n",
            "Epoch 8/10\n",
            "\u001b[1m13/13\u001b[0m \u001b[32m━━━━━━━━━━━━━━━━━━━━\u001b[0m\u001b[37m\u001b[0m \u001b[1m0s\u001b[0m 10ms/step - accuracy: 0.8532 - loss: 0.4254 - val_accuracy: 0.8600 - val_loss: 0.4443\n",
            "Epoch 9/10\n",
            "\u001b[1m13/13\u001b[0m \u001b[32m━━━━━━━━━━━━━━━━━━━━\u001b[0m\u001b[37m\u001b[0m \u001b[1m0s\u001b[0m 11ms/step - accuracy: 0.8658 - loss: 0.3466 - val_accuracy: 0.8700 - val_loss: 0.4241\n",
            "Epoch 10/10\n",
            "\u001b[1m13/13\u001b[0m \u001b[32m━━━━━━━━━━━━━━━━━━━━\u001b[0m\u001b[37m\u001b[0m \u001b[1m0s\u001b[0m 11ms/step - accuracy: 0.8722 - loss: 0.3441 - val_accuracy: 0.8300 - val_loss: 0.4403\n",
            "\u001b[1m4/4\u001b[0m \u001b[32m━━━━━━━━━━━━━━━━━━━━\u001b[0m\u001b[37m\u001b[0m \u001b[1m0s\u001b[0m 6ms/step - accuracy: 0.8492 - loss: 0.4445 \n",
            "Test Loss: 0.42438244819641113\n",
            "Test Accuracy: 0.8600000143051147\n",
            "Epoch 1/10\n"
          ]
        },
        {
          "name": "stderr",
          "output_type": "stream",
          "text": [
            "/usr/local/lib/python3.10/dist-packages/keras/src/layers/core/embedding.py:90: UserWarning: Argument `input_length` is deprecated. Just remove it.\n",
            "  warnings.warn(\n"
          ]
        },
        {
          "name": "stdout",
          "output_type": "stream",
          "text": [
            "\u001b[1m13/13\u001b[0m \u001b[32m━━━━━━━━━━━━━━━━━━━━\u001b[0m\u001b[37m\u001b[0m \u001b[1m2s\u001b[0m 32ms/step - accuracy: 0.1400 - loss: 2.2932 - val_accuracy: 0.2700 - val_loss: 2.2636\n",
            "Epoch 2/10\n",
            "\u001b[1m13/13\u001b[0m \u001b[32m━━━━━━━━━━━━━━━━━━━━\u001b[0m\u001b[37m\u001b[0m \u001b[1m0s\u001b[0m 13ms/step - accuracy: 0.3578 - loss: 2.2240 - val_accuracy: 0.3200 - val_loss: 2.1944\n",
            "Epoch 3/10\n",
            "\u001b[1m13/13\u001b[0m \u001b[32m━━━━━━━━━━━━━━━━━━━━\u001b[0m\u001b[37m\u001b[0m \u001b[1m0s\u001b[0m 12ms/step - accuracy: 0.3979 - loss: 2.0963 - val_accuracy: 0.4100 - val_loss: 1.9914\n",
            "Epoch 4/10\n",
            "\u001b[1m13/13\u001b[0m \u001b[32m━━━━━━━━━━━━━━━━━━━━\u001b[0m\u001b[37m\u001b[0m \u001b[1m0s\u001b[0m 12ms/step - accuracy: 0.5419 - loss: 1.7723 - val_accuracy: 0.6500 - val_loss: 1.5895\n",
            "Epoch 5/10\n",
            "\u001b[1m13/13\u001b[0m \u001b[32m━━━━━━━━━━━━━━━━━━━━\u001b[0m\u001b[37m\u001b[0m \u001b[1m0s\u001b[0m 11ms/step - accuracy: 0.7188 - loss: 1.3652 - val_accuracy: 0.7700 - val_loss: 1.0554\n",
            "Epoch 6/10\n",
            "\u001b[1m13/13\u001b[0m \u001b[32m━━━━━━━━━━━━━━━━━━━━\u001b[0m\u001b[37m\u001b[0m \u001b[1m0s\u001b[0m 10ms/step - accuracy: 0.8274 - loss: 0.7736 - val_accuracy: 0.8200 - val_loss: 0.7258\n",
            "Epoch 7/10\n",
            "\u001b[1m13/13\u001b[0m \u001b[32m━━━━━━━━━━━━━━━━━━━━\u001b[0m\u001b[37m\u001b[0m \u001b[1m0s\u001b[0m 11ms/step - accuracy: 0.8616 - loss: 0.5142 - val_accuracy: 0.8700 - val_loss: 0.5186\n",
            "Epoch 8/10\n",
            "\u001b[1m13/13\u001b[0m \u001b[32m━━━━━━━━━━━━━━━━━━━━\u001b[0m\u001b[37m\u001b[0m \u001b[1m0s\u001b[0m 11ms/step - accuracy: 0.8454 - loss: 0.4522 - val_accuracy: 0.8300 - val_loss: 0.5572\n",
            "Epoch 9/10\n",
            "\u001b[1m13/13\u001b[0m \u001b[32m━━━━━━━━━━━━━━━━━━━━\u001b[0m\u001b[37m\u001b[0m \u001b[1m0s\u001b[0m 10ms/step - accuracy: 0.9019 - loss: 0.3327 - val_accuracy: 0.8400 - val_loss: 0.4788\n",
            "Epoch 10/10\n",
            "\u001b[1m13/13\u001b[0m \u001b[32m━━━━━━━━━━━━━━━━━━━━\u001b[0m\u001b[37m\u001b[0m \u001b[1m0s\u001b[0m 11ms/step - accuracy: 0.8983 - loss: 0.2958 - val_accuracy: 0.8400 - val_loss: 0.4719\n",
            "\u001b[1m4/4\u001b[0m \u001b[32m━━━━━━━━━━━━━━━━━━━━\u001b[0m\u001b[37m\u001b[0m \u001b[1m0s\u001b[0m 6ms/step - accuracy: 0.8176 - loss: 0.4488 \n",
            "Test Loss: 0.45152920484542847\n",
            "Test Accuracy: 0.8199999928474426\n",
            "Epoch 1/10\n"
          ]
        },
        {
          "name": "stderr",
          "output_type": "stream",
          "text": [
            "/usr/local/lib/python3.10/dist-packages/keras/src/layers/core/embedding.py:90: UserWarning: Argument `input_length` is deprecated. Just remove it.\n",
            "  warnings.warn(\n"
          ]
        },
        {
          "name": "stdout",
          "output_type": "stream",
          "text": [
            "\u001b[1m13/13\u001b[0m \u001b[32m━━━━━━━━━━━━━━━━━━━━\u001b[0m\u001b[37m\u001b[0m \u001b[1m2s\u001b[0m 48ms/step - accuracy: 0.1771 - loss: 2.2936 - val_accuracy: 0.3200 - val_loss: 2.2700\n",
            "Epoch 2/10\n",
            "\u001b[1m13/13\u001b[0m \u001b[32m━━━━━━━━━━━━━━━━━━━━\u001b[0m\u001b[37m\u001b[0m \u001b[1m1s\u001b[0m 19ms/step - accuracy: 0.3725 - loss: 2.2288 - val_accuracy: 0.2300 - val_loss: 2.2225\n",
            "Epoch 3/10\n",
            "\u001b[1m13/13\u001b[0m \u001b[32m━━━━━━━━━━━━━━━━━━━━\u001b[0m\u001b[37m\u001b[0m \u001b[1m0s\u001b[0m 18ms/step - accuracy: 0.4183 - loss: 2.1284 - val_accuracy: 0.3800 - val_loss: 2.0856\n",
            "Epoch 4/10\n",
            "\u001b[1m13/13\u001b[0m \u001b[32m━━━━━━━━━━━━━━━━━━━━\u001b[0m\u001b[37m\u001b[0m \u001b[1m0s\u001b[0m 18ms/step - accuracy: 0.5353 - loss: 1.8746 - val_accuracy: 0.5300 - val_loss: 1.6765\n",
            "Epoch 5/10\n",
            "\u001b[1m13/13\u001b[0m \u001b[32m━━━━━━━━━━━━━━━━━━━━\u001b[0m\u001b[37m\u001b[0m \u001b[1m0s\u001b[0m 16ms/step - accuracy: 0.6274 - loss: 1.3915 - val_accuracy: 0.6400 - val_loss: 1.2093\n",
            "Epoch 6/10\n",
            "\u001b[1m13/13\u001b[0m \u001b[32m━━━━━━━━━━━━━━━━━━━━\u001b[0m\u001b[37m\u001b[0m \u001b[1m0s\u001b[0m 13ms/step - accuracy: 0.7375 - loss: 0.8992 - val_accuracy: 0.8000 - val_loss: 0.7294\n",
            "Epoch 7/10\n",
            "\u001b[1m13/13\u001b[0m \u001b[32m━━━━━━━━━━━━━━━━━━━━\u001b[0m\u001b[37m\u001b[0m \u001b[1m0s\u001b[0m 12ms/step - accuracy: 0.8743 - loss: 0.4869 - val_accuracy: 0.8600 - val_loss: 0.5171\n",
            "Epoch 8/10\n",
            "\u001b[1m13/13\u001b[0m \u001b[32m━━━━━━━━━━━━━━━━━━━━\u001b[0m\u001b[37m\u001b[0m \u001b[1m0s\u001b[0m 11ms/step - accuracy: 0.8610 - loss: 0.4052 - val_accuracy: 0.8600 - val_loss: 0.4365\n",
            "Epoch 9/10\n",
            "\u001b[1m13/13\u001b[0m \u001b[32m━━━━━━━━━━━━━━━━━━━━\u001b[0m\u001b[37m\u001b[0m \u001b[1m0s\u001b[0m 11ms/step - accuracy: 0.9007 - loss: 0.3096 - val_accuracy: 0.8100 - val_loss: 0.4950\n",
            "Epoch 10/10\n",
            "\u001b[1m13/13\u001b[0m \u001b[32m━━━━━━━━━━━━━━━━━━━━\u001b[0m\u001b[37m\u001b[0m \u001b[1m0s\u001b[0m 12ms/step - accuracy: 0.9103 - loss: 0.2800 - val_accuracy: 0.8400 - val_loss: 0.4535\n",
            "\u001b[1m4/4\u001b[0m \u001b[32m━━━━━━━━━━━━━━━━━━━━\u001b[0m\u001b[37m\u001b[0m \u001b[1m0s\u001b[0m 5ms/step - accuracy: 0.8598 - loss: 0.4345 \n",
            "Test Loss: 0.4413994252681732\n",
            "Test Accuracy: 0.8500000238418579\n",
            "Epoch 1/10\n"
          ]
        },
        {
          "name": "stderr",
          "output_type": "stream",
          "text": [
            "/usr/local/lib/python3.10/dist-packages/keras/src/layers/core/embedding.py:90: UserWarning: Argument `input_length` is deprecated. Just remove it.\n",
            "  warnings.warn(\n"
          ]
        },
        {
          "name": "stdout",
          "output_type": "stream",
          "text": [
            "\u001b[1m13/13\u001b[0m \u001b[32m━━━━━━━━━━━━━━━━━━━━\u001b[0m\u001b[37m\u001b[0m \u001b[1m2s\u001b[0m 36ms/step - accuracy: 0.1597 - loss: 2.2939 - val_accuracy: 0.3200 - val_loss: 2.2574\n",
            "Epoch 2/10\n",
            "\u001b[1m13/13\u001b[0m \u001b[32m━━━━━━━━━━━━━━━━━━━━\u001b[0m\u001b[37m\u001b[0m \u001b[1m0s\u001b[0m 13ms/step - accuracy: 0.3276 - loss: 2.2358 - val_accuracy: 0.3500 - val_loss: 2.1837\n",
            "Epoch 3/10\n",
            "\u001b[1m13/13\u001b[0m \u001b[32m━━━━━━━━━━━━━━━━━━━━\u001b[0m\u001b[37m\u001b[0m \u001b[1m0s\u001b[0m 13ms/step - accuracy: 0.4143 - loss: 2.1231 - val_accuracy: 0.4800 - val_loss: 1.9781\n",
            "Epoch 4/10\n",
            "\u001b[1m13/13\u001b[0m \u001b[32m━━━━━━━━━━━━━━━━━━━━\u001b[0m\u001b[37m\u001b[0m \u001b[1m0s\u001b[0m 12ms/step - accuracy: 0.5500 - loss: 1.7977 - val_accuracy: 0.6200 - val_loss: 1.5454\n",
            "Epoch 5/10\n",
            "\u001b[1m13/13\u001b[0m \u001b[32m━━━━━━━━━━━━━━━━━━━━\u001b[0m\u001b[37m\u001b[0m \u001b[1m0s\u001b[0m 12ms/step - accuracy: 0.7150 - loss: 1.2821 - val_accuracy: 0.6900 - val_loss: 1.0257\n",
            "Epoch 6/10\n",
            "\u001b[1m13/13\u001b[0m \u001b[32m━━━━━━━━━━━━━━━━━━━━\u001b[0m\u001b[37m\u001b[0m \u001b[1m0s\u001b[0m 11ms/step - accuracy: 0.7610 - loss: 0.8019 - val_accuracy: 0.6900 - val_loss: 0.8201\n",
            "Epoch 7/10\n",
            "\u001b[1m13/13\u001b[0m \u001b[32m━━━━━━━━━━━━━━━━━━━━\u001b[0m\u001b[37m\u001b[0m \u001b[1m0s\u001b[0m 12ms/step - accuracy: 0.8121 - loss: 0.5928 - val_accuracy: 0.8100 - val_loss: 0.6373\n",
            "Epoch 8/10\n",
            "\u001b[1m13/13\u001b[0m \u001b[32m━━━━━━━━━━━━━━━━━━━━\u001b[0m\u001b[37m\u001b[0m \u001b[1m0s\u001b[0m 11ms/step - accuracy: 0.8606 - loss: 0.4777 - val_accuracy: 0.8700 - val_loss: 0.5087\n",
            "Epoch 9/10\n",
            "\u001b[1m13/13\u001b[0m \u001b[32m━━━━━━━━━━━━━━━━━━━━\u001b[0m\u001b[37m\u001b[0m \u001b[1m0s\u001b[0m 11ms/step - accuracy: 0.9012 - loss: 0.3461 - val_accuracy: 0.8300 - val_loss: 0.4995\n",
            "Epoch 10/10\n",
            "\u001b[1m13/13\u001b[0m \u001b[32m━━━━━━━━━━━━━━━━━━━━\u001b[0m\u001b[37m\u001b[0m \u001b[1m0s\u001b[0m 10ms/step - accuracy: 0.9160 - loss: 0.2960 - val_accuracy: 0.8700 - val_loss: 0.4594\n",
            "\u001b[1m4/4\u001b[0m \u001b[32m━━━━━━━━━━━━━━━━━━━━\u001b[0m\u001b[37m\u001b[0m \u001b[1m0s\u001b[0m 5ms/step - accuracy: 0.8992 - loss: 0.3965 \n",
            "Test Loss: 0.46693968772888184\n",
            "Test Accuracy: 0.8600000143051147\n",
            "Epoch 1/10\n"
          ]
        },
        {
          "name": "stderr",
          "output_type": "stream",
          "text": [
            "/usr/local/lib/python3.10/dist-packages/keras/src/layers/core/embedding.py:90: UserWarning: Argument `input_length` is deprecated. Just remove it.\n",
            "  warnings.warn(\n"
          ]
        },
        {
          "name": "stdout",
          "output_type": "stream",
          "text": [
            "\u001b[1m13/13\u001b[0m \u001b[32m━━━━━━━━━━━━━━━━━━━━\u001b[0m\u001b[37m\u001b[0m \u001b[1m2s\u001b[0m 37ms/step - accuracy: 0.1080 - loss: 2.2942 - val_accuracy: 0.1900 - val_loss: 2.2758\n",
            "Epoch 2/10\n",
            "\u001b[1m13/13\u001b[0m \u001b[32m━━━━━━━━━━━━━━━━━━━━\u001b[0m\u001b[37m\u001b[0m \u001b[1m0s\u001b[0m 14ms/step - accuracy: 0.3869 - loss: 2.2373 - val_accuracy: 0.2700 - val_loss: 2.2191\n",
            "Epoch 3/10\n",
            "\u001b[1m13/13\u001b[0m \u001b[32m━━━━━━━━━━━━━━━━━━━━\u001b[0m\u001b[37m\u001b[0m \u001b[1m0s\u001b[0m 14ms/step - accuracy: 0.4688 - loss: 2.1237 - val_accuracy: 0.3600 - val_loss: 2.0219\n",
            "Epoch 4/10\n",
            "\u001b[1m13/13\u001b[0m \u001b[32m━━━━━━━━━━━━━━━━━━━━\u001b[0m\u001b[37m\u001b[0m \u001b[1m0s\u001b[0m 13ms/step - accuracy: 0.5105 - loss: 1.7940 - val_accuracy: 0.3900 - val_loss: 1.6111\n",
            "Epoch 5/10\n",
            "\u001b[1m13/13\u001b[0m \u001b[32m━━━━━━━━━━━━━━━━━━━━\u001b[0m\u001b[37m\u001b[0m \u001b[1m0s\u001b[0m 12ms/step - accuracy: 0.6292 - loss: 1.3068 - val_accuracy: 0.6700 - val_loss: 1.1113\n",
            "Epoch 6/10\n",
            "\u001b[1m13/13\u001b[0m \u001b[32m━━━━━━━━━━━━━━━━━━━━\u001b[0m\u001b[37m\u001b[0m \u001b[1m0s\u001b[0m 12ms/step - accuracy: 0.7697 - loss: 0.8549 - val_accuracy: 0.7900 - val_loss: 0.8044\n",
            "Epoch 7/10\n",
            "\u001b[1m13/13\u001b[0m \u001b[32m━━━━━━━━━━━━━━━━━━━━\u001b[0m\u001b[37m\u001b[0m \u001b[1m0s\u001b[0m 12ms/step - accuracy: 0.8498 - loss: 0.5962 - val_accuracy: 0.8300 - val_loss: 0.6088\n",
            "Epoch 8/10\n",
            "\u001b[1m13/13\u001b[0m \u001b[32m━━━━━━━━━━━━━━━━━━━━\u001b[0m\u001b[37m\u001b[0m \u001b[1m0s\u001b[0m 13ms/step - accuracy: 0.8634 - loss: 0.4249 - val_accuracy: 0.8600 - val_loss: 0.4539\n",
            "Epoch 9/10\n",
            "\u001b[1m13/13\u001b[0m \u001b[32m━━━━━━━━━━━━━━━━━━━━\u001b[0m\u001b[37m\u001b[0m \u001b[1m0s\u001b[0m 11ms/step - accuracy: 0.8775 - loss: 0.3430 - val_accuracy: 0.8000 - val_loss: 0.4255\n",
            "Epoch 10/10\n",
            "\u001b[1m13/13\u001b[0m \u001b[32m━━━━━━━━━━━━━━━━━━━━\u001b[0m\u001b[37m\u001b[0m \u001b[1m0s\u001b[0m 12ms/step - accuracy: 0.8956 - loss: 0.3060 - val_accuracy: 0.7900 - val_loss: 0.4464\n",
            "\u001b[1m4/4\u001b[0m \u001b[32m━━━━━━━━━━━━━━━━━━━━\u001b[0m\u001b[37m\u001b[0m \u001b[1m0s\u001b[0m 8ms/step - accuracy: 0.8014 - loss: 0.4108 \n",
            "Test Loss: 0.43436336517333984\n",
            "Test Accuracy: 0.7900000214576721\n",
            "Epoch 1/10\n"
          ]
        },
        {
          "name": "stderr",
          "output_type": "stream",
          "text": [
            "/usr/local/lib/python3.10/dist-packages/keras/src/layers/core/embedding.py:90: UserWarning: Argument `input_length` is deprecated. Just remove it.\n",
            "  warnings.warn(\n"
          ]
        },
        {
          "name": "stdout",
          "output_type": "stream",
          "text": [
            "\u001b[1m13/13\u001b[0m \u001b[32m━━━━━━━━━━━━━━━━━━━━\u001b[0m\u001b[37m\u001b[0m \u001b[1m3s\u001b[0m 48ms/step - accuracy: 0.1395 - loss: 2.2985 - val_accuracy: 0.3800 - val_loss: 2.2675\n",
            "Epoch 2/10\n",
            "\u001b[1m13/13\u001b[0m \u001b[32m━━━━━━━━━━━━━━━━━━━━\u001b[0m\u001b[37m\u001b[0m \u001b[1m1s\u001b[0m 13ms/step - accuracy: 0.4209 - loss: 2.2495 - val_accuracy: 0.5200 - val_loss: 2.1869\n",
            "Epoch 3/10\n",
            "\u001b[1m13/13\u001b[0m \u001b[32m━━━━━━━━━━━━━━━━━━━━\u001b[0m\u001b[37m\u001b[0m \u001b[1m0s\u001b[0m 13ms/step - accuracy: 0.5259 - loss: 2.1382 - val_accuracy: 0.5400 - val_loss: 1.9716\n",
            "Epoch 4/10\n",
            "\u001b[1m13/13\u001b[0m \u001b[32m━━━━━━━━━━━━━━━━━━━━\u001b[0m\u001b[37m\u001b[0m \u001b[1m0s\u001b[0m 12ms/step - accuracy: 0.6164 - loss: 1.8484 - val_accuracy: 0.6600 - val_loss: 1.4802\n",
            "Epoch 5/10\n",
            "\u001b[1m13/13\u001b[0m \u001b[32m━━━━━━━━━━━━━━━━━━━━\u001b[0m\u001b[37m\u001b[0m \u001b[1m0s\u001b[0m 12ms/step - accuracy: 0.6920 - loss: 1.2517 - val_accuracy: 0.6700 - val_loss: 1.0171\n",
            "Epoch 6/10\n",
            "\u001b[1m13/13\u001b[0m \u001b[32m━━━━━━━━━━━━━━━━━━━━\u001b[0m\u001b[37m\u001b[0m \u001b[1m0s\u001b[0m 12ms/step - accuracy: 0.7881 - loss: 0.8016 - val_accuracy: 0.7900 - val_loss: 0.6831\n",
            "Epoch 7/10\n",
            "\u001b[1m13/13\u001b[0m \u001b[32m━━━━━━━━━━━━━━━━━━━━\u001b[0m\u001b[37m\u001b[0m \u001b[1m0s\u001b[0m 12ms/step - accuracy: 0.8634 - loss: 0.5005 - val_accuracy: 0.8400 - val_loss: 0.5621\n",
            "Epoch 8/10\n",
            "\u001b[1m13/13\u001b[0m \u001b[32m━━━━━━━━━━━━━━━━━━━━\u001b[0m\u001b[37m\u001b[0m \u001b[1m0s\u001b[0m 11ms/step - accuracy: 0.8773 - loss: 0.4349 - val_accuracy: 0.8400 - val_loss: 0.4679\n",
            "Epoch 9/10\n",
            "\u001b[1m13/13\u001b[0m \u001b[32m━━━━━━━━━━━━━━━━━━━━\u001b[0m\u001b[37m\u001b[0m \u001b[1m0s\u001b[0m 11ms/step - accuracy: 0.8907 - loss: 0.3346 - val_accuracy: 0.8400 - val_loss: 0.4317\n",
            "Epoch 10/10\n",
            "\u001b[1m13/13\u001b[0m \u001b[32m━━━━━━━━━━━━━━━━━━━━\u001b[0m\u001b[37m\u001b[0m \u001b[1m0s\u001b[0m 13ms/step - accuracy: 0.8758 - loss: 0.3262 - val_accuracy: 0.8600 - val_loss: 0.4028\n",
            "\u001b[1m4/4\u001b[0m \u001b[32m━━━━━━━━━━━━━━━━━━━━\u001b[0m\u001b[37m\u001b[0m \u001b[1m0s\u001b[0m 12ms/step - accuracy: 0.8836 - loss: 0.3701\n",
            "Test Loss: 0.38482585549354553\n",
            "Test Accuracy: 0.8600000143051147\n",
            "Epoch 1/10\n"
          ]
        },
        {
          "name": "stderr",
          "output_type": "stream",
          "text": [
            "/usr/local/lib/python3.10/dist-packages/keras/src/layers/core/embedding.py:90: UserWarning: Argument `input_length` is deprecated. Just remove it.\n",
            "  warnings.warn(\n"
          ]
        },
        {
          "name": "stdout",
          "output_type": "stream",
          "text": [
            "\u001b[1m13/13\u001b[0m \u001b[32m━━━━━━━━━━━━━━━━━━━━\u001b[0m\u001b[37m\u001b[0m \u001b[1m2s\u001b[0m 32ms/step - accuracy: 0.1519 - loss: 2.2947 - val_accuracy: 0.2900 - val_loss: 2.2617\n",
            "Epoch 2/10\n",
            "\u001b[1m13/13\u001b[0m \u001b[32m━━━━━━━━━━━━━━━━━━━━\u001b[0m\u001b[37m\u001b[0m \u001b[1m0s\u001b[0m 14ms/step - accuracy: 0.3802 - loss: 2.2368 - val_accuracy: 0.3700 - val_loss: 2.1901\n",
            "Epoch 3/10\n",
            "\u001b[1m13/13\u001b[0m \u001b[32m━━━━━━━━━━━━━━━━━━━━\u001b[0m\u001b[37m\u001b[0m \u001b[1m0s\u001b[0m 12ms/step - accuracy: 0.4711 - loss: 2.1145 - val_accuracy: 0.3900 - val_loss: 1.9675\n",
            "Epoch 4/10\n",
            "\u001b[1m13/13\u001b[0m \u001b[32m━━━━━━━━━━━━━━━━━━━━\u001b[0m\u001b[37m\u001b[0m \u001b[1m0s\u001b[0m 12ms/step - accuracy: 0.5144 - loss: 1.7847 - val_accuracy: 0.5300 - val_loss: 1.5408\n",
            "Epoch 5/10\n",
            "\u001b[1m13/13\u001b[0m \u001b[32m━━━━━━━━━━━━━━━━━━━━\u001b[0m\u001b[37m\u001b[0m \u001b[1m0s\u001b[0m 12ms/step - accuracy: 0.6895 - loss: 1.3024 - val_accuracy: 0.6800 - val_loss: 1.0653\n",
            "Epoch 6/10\n",
            "\u001b[1m13/13\u001b[0m \u001b[32m━━━━━━━━━━━━━━━━━━━━\u001b[0m\u001b[37m\u001b[0m \u001b[1m0s\u001b[0m 12ms/step - accuracy: 0.7343 - loss: 0.8623 - val_accuracy: 0.7900 - val_loss: 0.8478\n",
            "Epoch 7/10\n",
            "\u001b[1m13/13\u001b[0m \u001b[32m━━━━━━━━━━━━━━━━━━━━\u001b[0m\u001b[37m\u001b[0m \u001b[1m0s\u001b[0m 11ms/step - accuracy: 0.8665 - loss: 0.5271 - val_accuracy: 0.7900 - val_loss: 0.7547\n",
            "Epoch 8/10\n",
            "\u001b[1m13/13\u001b[0m \u001b[32m━━━━━━━━━━━━━━━━━━━━\u001b[0m\u001b[37m\u001b[0m \u001b[1m0s\u001b[0m 11ms/step - accuracy: 0.8592 - loss: 0.4565 - val_accuracy: 0.7900 - val_loss: 0.6293\n",
            "Epoch 9/10\n",
            "\u001b[1m13/13\u001b[0m \u001b[32m━━━━━━━━━━━━━━━━━━━━\u001b[0m\u001b[37m\u001b[0m \u001b[1m0s\u001b[0m 10ms/step - accuracy: 0.8879 - loss: 0.3279 - val_accuracy: 0.8100 - val_loss: 0.6036\n",
            "Epoch 10/10\n",
            "\u001b[1m13/13\u001b[0m \u001b[32m━━━━━━━━━━━━━━━━━━━━\u001b[0m\u001b[37m\u001b[0m \u001b[1m0s\u001b[0m 11ms/step - accuracy: 0.9025 - loss: 0.2946 - val_accuracy: 0.7700 - val_loss: 0.6189\n",
            "\u001b[1m4/4\u001b[0m \u001b[32m━━━━━━━━━━━━━━━━━━━━\u001b[0m\u001b[37m\u001b[0m \u001b[1m0s\u001b[0m 5ms/step - accuracy: 0.7846 - loss: 0.5808 \n",
            "Test Loss: 0.5654719471931458\n",
            "Test Accuracy: 0.800000011920929\n",
            "\u001b[1m4/4\u001b[0m \u001b[32m━━━━━━━━━━━━━━━━━━━━\u001b[0m\u001b[37m\u001b[0m \u001b[1m0s\u001b[0m 42ms/step\n",
            "['Cybex' 'Zorblax' 'Nexoon' 'Emotivor' 'Florian' 'Nexoon' 'Florian'\n",
            " 'Cybex' 'Nexoon' 'Nexoon']\n",
            "Average 0.8300000071525574\n"
          ]
        }
      ],
      "source": [
        "import pandas as pd\n",
        "from sklearn.model_selection import train_test_split\n",
        "from sklearn.preprocessing import LabelEncoder\n",
        "from tensorflow.keras.models import Sequential\n",
        "from tensorflow.keras.layers import Embedding, LSTM, Dense, Dropout, SpatialDropout1D, Bidirectional, GRU, Conv1D, GlobalMaxPooling1D\n",
        "from tensorflow.keras.preprocessing.text import Tokenizer\n",
        "from tensorflow.keras.preprocessing.sequence import pad_sequences\n",
        "\n",
        "# Load data\n",
        "data = pd.read_csv('data.csv')\n",
        "\n",
        "# Preprocess the data\n",
        "X = data[['message', 'tail', 'fingers']]\n",
        "y = data['species']\n",
        "\n",
        "# Encode the target variable 'species'\n",
        "label_encoder = LabelEncoder()\n",
        "y = label_encoder.fit_transform(y)\n",
        "\n",
        "# Tokenize the 'message' column\n",
        "tokenizer = Tokenizer(num_words=5000)\n",
        "tokenizer.fit_on_texts(X['message'])\n",
        "X_message_sequences = tokenizer.texts_to_sequences(X['message'])\n",
        "\n",
        "# Pad sequences to a fixed length\n",
        "max_sequence_length = 100\n",
        "X_message_padded = pad_sequences(X_message_sequences, maxlen=max_sequence_length)\n",
        "\n",
        "# Create input features by combining 'message', 'tail', and 'fingers'\n",
        "X_features = pd.concat([pd.DataFrame(X_message_padded), X[['tail', 'fingers']]], axis=1)\n",
        "accuracies = []\n",
        "for i in range(10):\n",
        "  # Split the data into training and testing sets\n",
        "  X_train, X_test, y_train, y_test = train_test_split(X_features, y, test_size=0.2)\n",
        "\n",
        "  # Model 1: LSTM\n",
        "  # model = Sequential()\n",
        "  # model.add(Embedding(5000, 128, input_length=max_sequence_length))  # Embedding layer for text\n",
        "  # model.add(LSTM(128))  # LSTM layer for sequence processing\n",
        "  # model.add(Dense(len(label_encoder.classes_), activation='softmax'))  # Output layer with softmax for multi-class classification\n",
        "\n",
        "  # Model 2: Bidirectional LSTM \n",
        "  # model = Sequential()\n",
        "  # model.add(Embedding(5000, 128, input_length=max_sequence_length))  # Embedding layer for text\n",
        "  # model.add(SpatialDropout1D(0.3))\n",
        "  # model.add(Bidirectional(LSTM(128)))  # Bidirectional LSTM\n",
        "  # model.add(Dropout(0.3))\n",
        "  # model.add(Dense(len(label_encoder.classes_), activation='softmax'))  # Output layer\n",
        "\n",
        "  # Model 3: GRU (Uncomment to use)\n",
        "  model = Sequential()\n",
        "  model.add(Embedding(5000, 95, input_length=max_sequence_length))  # Embedding layer for text\n",
        "  model.add(GRU(95,activation='tanh',dropout=0.25))  # GRU layer\n",
        "  #model.add(Bidirectional(GRU(80, dropout=0.5, recurrent_dropout=0.5)))\n",
        "  #model.add(Dropout(0.5))  # Additional dropout\n",
        "  model.add(Dense(len(label_encoder.classes_), activation='softmax'))  # Output layer\n",
        "\n",
        "  # Model 4: CNN \n",
        "  # model = Sequential()\n",
        "  # model.add(Embedding(5000, 128, input_length=max_sequence_length))  # Embedding layer for text\n",
        "  # model.add(Conv1D(128, 5, activation='relu'))  # CNN layer\n",
        "  # model.add(GlobalMaxPooling1D())  # Global max pooling layer\n",
        "  # model.add(Dense(len(label_encoder.classes_), activation='softmax'))  # Output layer\n",
        "\n",
        "  # Model 5: Hybrid CNN-LSTM \n",
        "  # model = Sequential()\n",
        "  # model.add(Embedding(5000, 128, input_length=max_sequence_length))  # Embedding layer for text\n",
        "  # model.add(Conv1D(128, 5, activation='relu'))  # CNN layer\n",
        "  # model.add(GlobalMaxPooling1D())  # Global max pooling layer\n",
        "  # model.add(LSTM(128))  # LSTM layer\n",
        "  # model.add(Dense(len(label_encoder.classes_), activation='softmax'))  # Output layer\n",
        "\n",
        "\n",
        "  model.compile(optimizer='adam', loss='sparse_categorical_crossentropy', metrics=['accuracy'])\n",
        "\n",
        "  # Training\n",
        "  model.fit(X_train, y_train, epochs=10, batch_size=32, validation_data=(X_test, y_test))\n",
        "\n",
        "  # Evaluation\n",
        "  loss, accuracy = model.evaluate(X_test, y_test)\n",
        "  print('Test Loss:', loss)\n",
        "  print('Test Accuracy:', accuracy)\n",
        "  accuracies.append(accuracy)\n",
        "\n",
        "# Making Predictions\n",
        "predictions = model.predict(X_test)\n",
        "predicted_species = label_encoder.inverse_transform(predictions.argmax(axis=1))\n",
        "\n",
        "print(predicted_species[:10])\n",
        "print(\"Average\", sum(accuracies)/len(accuracies))\n"
      ]
    },
    {
      "cell_type": "code",
      "execution_count": null,
      "metadata": {
        "id": "viWIkz-Uv1L9"
      },
      "outputs": [],
      "source": [
        "import pandas as pd\n",
        "\n",
        "test_data = pd.read_csv('test.csv')\n",
        "\n",
        "# Preprocess the test data in the same way as the training data\n",
        "X_test_new = test_data[['message', 'tail', 'fingers']]\n",
        "X_test_new['tail'] = X_test_new['tail'].apply(lambda x: 1 if x == 'yes' else 0)\n",
        "\n",
        "X_test_message_sequences = tokenizer.texts_to_sequences(X_test_new['message'])\n",
        "X_test_message_padded = pad_sequences(X_test_message_sequences, maxlen=max_sequence_length)\n",
        "X_test_features = pd.concat([pd.DataFrame(X_test_message_padded), X_test_new[['tail', 'fingers']]], axis=1)\n",
        "\n",
        "# Make predictions using the trained model\n",
        "predictions_new = model.predict(X_test_features)\n",
        "predicted_species_new = label_encoder.inverse_transform(predictions_new.argmax(axis=1))\n",
        "\n",
        "# Create a new DataFrame with the predictions\n",
        "answer_data = pd.DataFrame({'species': predicted_species_new})\n",
        "\n",
        "# Save the predictions to a new CSV file named 'answer.csv'\n",
        "answer_data.to_csv('answer.csv', index=False)\n",
        "\n",
        "print(\"Predictions saved to answer.csv\")\n"
      ]
    }
  ],
  "metadata": {
    "accelerator": "GPU",
    "colab": {
      "gpuType": "T4",
      "provenance": []
    },
    "kernelspec": {
      "display_name": "Python 3",
      "name": "python3"
    },
    "language_info": {
      "name": "python"
    }
  },
  "nbformat": 4,
  "nbformat_minor": 0
}
